{
 "cells": [
  {
   "cell_type": "markdown",
   "metadata": {},
   "source": [
    "# Introduction to Pandas\n",
    "\n",
    "In this notebook we will go over some basics of the python module ```pandas``` using Python 3.5 (and above). \n"
   ]
  },
  {
   "cell_type": "markdown",
   "metadata": {},
   "source": [
    "## The toy dataset\n",
    "\n",
    "We will use the dataset available [here](https://archive.ics.uci.edu/ml/datasets/Wine+Quality).\n",
    "Read the information here to understand what the dataset is all about. \n",
    "\n",
    "The dataset contains information about the perceived quality of a particular brand of Portuguese wine.  \n",
    "\n",
    "Each row will represent a particular red wine variant and each column will contain the following:\n",
    "1. fixed acidity\n",
    "2. volatile acidity\n",
    "3. citric acid\n",
    "4. residual sugar\n",
    "5. chlorides\n",
    "6. free sulfur dioxide\n",
    "7. total sulfur dioxide\n",
    "8. density\n",
    "9. pH\n",
    "10. sulphates\n",
    "11. alcohol\n",
    "12. quality (score between 0 and 10)\n",
    "\n",
    "We will use the data to learn more about working with ```pandas```.\n",
    "\n",
    "\n",
    "## Downloading the data:\n",
    "\n",
    "Visit [this link](https://archive.ics.uci.edu/ml/machine-learning-databases/wine-quality/winequality-red.csv) and save the CSV file to the **same folder** where you have saved **this notebook** without altering the suggested name. \n",
    "\n",
    "\n",
    "This is a CSV (Comma Separated Values) file. Go ahead and open it with a **text editor**.\n",
    "\n",
    "![title](csv_head.png)\n",
    "\n",
    "You can see that these are not comma separated values and they are separated by a ```;```. Generally values in CSV files can be separated by various different characters such as space, commas, tabs, colons and semi-colons. "
   ]
  },
  {
   "cell_type": "code",
   "execution_count": null,
   "metadata": {
    "ExecuteTime": {
     "end_time": "2018-03-12T16:27:23.196681Z",
     "start_time": "2018-03-12T16:27:22.760619Z"
    }
   },
   "outputs": [],
   "source": [
    "# Loading the pandas module with the name 'pd' \n",
    "import pandas as pd "
   ]
  },
  {
   "cell_type": "code",
   "execution_count": null,
   "metadata": {
    "ExecuteTime": {
     "end_time": "2018-03-12T16:27:23.209653Z",
     "start_time": "2018-03-12T16:27:23.198656Z"
    }
   },
   "outputs": [],
   "source": [
    "redwine = pd.read_csv('winequality-red.csv')  # read the csv file"
   ]
  },
  {
   "cell_type": "code",
   "execution_count": null,
   "metadata": {
    "ExecuteTime": {
     "end_time": "2018-03-12T16:27:23.236297Z",
     "start_time": "2018-03-12T16:27:23.212486Z"
    }
   },
   "outputs": [],
   "source": [
    "redwine.head()  # display the first 5 rows of the CSV"
   ]
  },
  {
   "cell_type": "markdown",
   "metadata": {},
   "source": [
    "It seems that something has broken... \n",
    "\n",
    "\n",
    "Normally when we use the ```.read_csv ``` method of pandas, it assumes that the delimiter between values is a ```,```. In cases where this is not (such as ours) we can explicitly specify the delimiter. "
   ]
  },
  {
   "cell_type": "code",
   "execution_count": null,
   "metadata": {
    "ExecuteTime": {
     "end_time": "2018-03-12T16:27:23.252548Z",
     "start_time": "2018-03-12T16:27:23.239799Z"
    }
   },
   "outputs": [],
   "source": [
    "redwine = pd.read_csv('winequality-red.csv', sep=';')  # read the csv file separated with a semicolon ;"
   ]
  },
  {
   "cell_type": "code",
   "execution_count": null,
   "metadata": {
    "ExecuteTime": {
     "end_time": "2018-03-12T16:27:23.298087Z",
     "start_time": "2018-03-12T16:27:23.260492Z"
    }
   },
   "outputs": [],
   "source": [
    "redwine.head()"
   ]
  },
  {
   "cell_type": "markdown",
   "metadata": {},
   "source": [
    "This is much more readable.\n",
    "\n",
    "The object ```redwine``` is a ```pandas.DataFrame``` object which we will use very extensively during the course. \n",
    "\n",
    "Let's investigate what is inside this dataframe. "
   ]
  },
  {
   "cell_type": "code",
   "execution_count": null,
   "metadata": {
    "ExecuteTime": {
     "end_time": "2018-03-12T16:27:23.317315Z",
     "start_time": "2018-03-12T16:27:23.300580Z"
    }
   },
   "outputs": [],
   "source": [
    "redwine.info()  # This prints out some basic stats about the data"
   ]
  },
  {
   "cell_type": "markdown",
   "metadata": {},
   "source": [
    "From this summary we can see the names of our columns, the number of non-empty rows, and the type of each column. In our case they are all floating point numbers (```float64```) except the last one, the quality. This is an integer. \n",
    "\n",
    "Now let's visualize some of the data. \n",
    "\n",
    "We can plot the ```pH``` and the ```citric acid``` columns to see if there is something interesting there.\n",
    "To plot we use the ```.plot()``` method of a ```pandas.DataFrame``` object. \n",
    "\n",
    "We have to specify what values we want plotted along the x and y axes. There are also many other options (see [here](https://pandas.pydata.org/pandas-docs/stable/generated/pandas.DataFrame.plot.html)).\n"
   ]
  },
  {
   "cell_type": "code",
   "execution_count": null,
   "metadata": {
    "ExecuteTime": {
     "end_time": "2018-03-12T16:27:23.690488Z",
     "start_time": "2018-03-12T16:27:23.319866Z"
    }
   },
   "outputs": [],
   "source": [
    "# Plotting age on the x axis and the number of nodes on the y axis\n",
    "redwine.plot(x='citric acid', y='pH')"
   ]
  },
  {
   "cell_type": "markdown",
   "metadata": {},
   "source": [
    "This is not very useful.\n",
    "\n",
    "Pandas has drawn a line between points where there should be none.\n",
    "We a scatter plot. We can use ```pandas.plot.scatter``` instead of just ```pandas.plot```. "
   ]
  },
  {
   "cell_type": "code",
   "execution_count": null,
   "metadata": {
    "ExecuteTime": {
     "end_time": "2018-03-12T16:27:23.971196Z",
     "start_time": "2018-03-12T16:27:23.693067Z"
    }
   },
   "outputs": [],
   "source": [
    "# The figure is also too small let's increase the size by adjusting the figsize (x_size, y_size) option\n",
    "redwine.plot.scatter(x='citric acid', y='pH', figsize=(10, 8))"
   ]
  },
  {
   "cell_type": "markdown",
   "metadata": {},
   "source": [
    "Intuitively, the ```pH``` level decreases as the concentration of ```citric acid``` increases. \n",
    "\n",
    "What about wine density? My theory is is that the more ```alcohol``` the lower the ```density``` since alcohol is generally lighter than fruit juice. "
   ]
  },
  {
   "cell_type": "code",
   "execution_count": null,
   "metadata": {
    "ExecuteTime": {
     "end_time": "2018-03-12T16:27:24.245086Z",
     "start_time": "2018-03-12T16:27:23.973395Z"
    }
   },
   "outputs": [],
   "source": [
    "redwine.plot.scatter(x='alcohol', y='density', figsize=(10, 8))"
   ]
  },
  {
   "cell_type": "markdown",
   "metadata": {},
   "source": [
    "It seems that there is some correlation here as the alcohol level goes up.\n",
    "\n",
    "What if we wanted to see this effect but only for wines that are bad?\n",
    "\n",
    "First we will have to find out what is bad wine. We will define it as wines that have a lower than mean quality score.  \n",
    "\n",
    "Therefore we must first find the mean value of the ```quality``` column. In pandas we can select a column like we would the index of a list like so:"
   ]
  },
  {
   "cell_type": "code",
   "execution_count": null,
   "metadata": {
    "ExecuteTime": {
     "end_time": "2018-03-12T16:27:24.266941Z",
     "start_time": "2018-03-12T16:27:24.252737Z"
    }
   },
   "outputs": [],
   "source": [
    "redwine['quality']"
   ]
  },
  {
   "cell_type": "markdown",
   "metadata": {},
   "source": [
    "These are all the column values. \n",
    "\n",
    "Pandas columns are ```pandas.Series``` objects and have most of the functionality of ```numpy arrays```. This means we can use mean, median and sum calculations. For now we will use the mean. "
   ]
  },
  {
   "cell_type": "code",
   "execution_count": null,
   "metadata": {
    "ExecuteTime": {
     "end_time": "2018-03-12T16:27:24.274033Z",
     "start_time": "2018-03-12T16:27:24.270291Z"
    }
   },
   "outputs": [],
   "source": [
    "ave_quality = redwine['quality'].mean()"
   ]
  },
  {
   "cell_type": "code",
   "execution_count": null,
   "metadata": {
    "ExecuteTime": {
     "end_time": "2018-03-12T16:27:24.282889Z",
     "start_time": "2018-03-12T16:27:24.278606Z"
    }
   },
   "outputs": [],
   "source": [
    "print(ave_quality)"
   ]
  },
  {
   "cell_type": "markdown",
   "metadata": {},
   "source": [
    "Now that we know the mean, how do we select only those rows that have a quality value less than ```ave_quality```?\n",
    "\n",
    "We can slice a ```pandas.DataFrame``` object by indexing it with conditional statements. \n",
    "This is because a conditional statement on on a dataframe returns a series of boolean values.\n",
    "See the example below. "
   ]
  },
  {
   "cell_type": "code",
   "execution_count": null,
   "metadata": {
    "ExecuteTime": {
     "end_time": "2018-03-12T16:27:24.299242Z",
     "start_time": "2018-03-12T16:27:24.285649Z"
    }
   },
   "outputs": [],
   "source": [
    "# using a conditional statement on a pandas dataframe directly\n",
    "redwine['quality'] < ave_quality"
   ]
  },
  {
   "cell_type": "markdown",
   "metadata": {},
   "source": [
    "We can now pass this series of boolean values directly to a dataframe as we would a column. \n",
    "i.e. ```redwine[redwine['quality'] < ave_quality]``` returns only those rows in ```redwine``` where the value of the ```'quality'``` column is less than the value of ```ave_quality```. \n",
    "\n",
    "Therefore we can do the following:"
   ]
  },
  {
   "cell_type": "code",
   "execution_count": null,
   "metadata": {
    "ExecuteTime": {
     "end_time": "2018-03-12T16:27:24.309508Z",
     "start_time": "2018-03-12T16:27:24.303569Z"
    }
   },
   "outputs": [],
   "source": [
    "# new dataframe with only the data about the dead\n",
    "badwine = redwine[redwine['quality'] < ave_quality]"
   ]
  },
  {
   "cell_type": "code",
   "execution_count": null,
   "metadata": {
    "ExecuteTime": {
     "end_time": "2018-03-12T16:27:24.326000Z",
     "start_time": "2018-03-12T16:27:24.312505Z"
    }
   },
   "outputs": [],
   "source": [
    "# Some summary statistics\n",
    "badwine.info()"
   ]
  },
  {
   "cell_type": "code",
   "execution_count": null,
   "metadata": {
    "ExecuteTime": {
     "end_time": "2018-03-12T16:27:24.357918Z",
     "start_time": "2018-03-12T16:27:24.328085Z"
    }
   },
   "outputs": [],
   "source": [
    "# print the first 5 rows\n",
    "badwine.head()"
   ]
  },
  {
   "cell_type": "markdown",
   "metadata": {},
   "source": [
    "Now we will go back and plot this. "
   ]
  },
  {
   "cell_type": "code",
   "execution_count": null,
   "metadata": {
    "ExecuteTime": {
     "end_time": "2018-03-12T16:27:24.663916Z",
     "start_time": "2018-03-12T16:27:24.362408Z"
    }
   },
   "outputs": [],
   "source": [
    "badwine.plot.scatter(x='alcohol', y='density', figsize=(10, 8))"
   ]
  },
  {
   "cell_type": "markdown",
   "metadata": {},
   "source": [
    "It's kind of hard to visually compare this to what we had before. \n",
    "\n",
    "Ideally we could plot these in the same figure. \n",
    "\n",
    "This is possible. In pandas, every ```.plot``` statement returns an ```axis``` object which is a reference to figure that the plot is being drawn upon. \n",
    "\n",
    "Further, every ```.plot``` statement also takes as an optional input an axis object. Therefore we can do the following:"
   ]
  },
  {
   "cell_type": "code",
   "execution_count": null,
   "metadata": {
    "ExecuteTime": {
     "end_time": "2018-03-12T16:27:24.955788Z",
     "start_time": "2018-03-12T16:27:24.666793Z"
    }
   },
   "outputs": [],
   "source": [
    "my_canvas = redwine.plot.scatter(x='alcohol', y='density', figsize=(10, 8))\n",
    "badwine.plot.scatter(x='alcohol', y='density', figsize=(10, 8), ax=my_canvas)"
   ]
  },
  {
   "cell_type": "markdown",
   "metadata": {},
   "source": [
    "So what happened?\n",
    "\n",
    "We have plotted both plots on top of each other, however, they have the same exact color. We will need to change the color of one of them. \n",
    "\n",
    "Let's set the color of the second plot to ```red```. "
   ]
  },
  {
   "cell_type": "code",
   "execution_count": null,
   "metadata": {
    "ExecuteTime": {
     "end_time": "2018-03-12T16:27:25.231519Z",
     "start_time": "2018-03-12T16:27:24.958643Z"
    }
   },
   "outputs": [],
   "source": [
    "my_canvas = redwine.plot.scatter(x='alcohol', y='density', figsize=(10, 8))\n",
    "badwine.plot.scatter(x='alcohol', y='density', figsize=(10, 8), ax=my_canvas, color='red')"
   ]
  },
  {
   "cell_type": "markdown",
   "metadata": {},
   "source": [
    "Much more interesting. \n",
    "\n",
    "Not only do we find that ```density``` is related to ```alcohol``` but also that the red plot (bad wines) tend to all have a lower ```alcohol``` level. \n",
    "\n",
    "Perhaps ```alcohol``` is very important in wine quality.\n",
    "\n",
    "We can look at just ```alcohol``` in histograms. \n",
    "\n",
    "First let's look at the ```alcohol``` distribution in all of our data. "
   ]
  },
  {
   "cell_type": "code",
   "execution_count": null,
   "metadata": {
    "ExecuteTime": {
     "end_time": "2018-03-12T16:27:25.489992Z",
     "start_time": "2018-03-12T16:27:25.233694Z"
    }
   },
   "outputs": [],
   "source": [
    "redwine['alcohol'].plot.hist(figsize=(10, 8))"
   ]
  },
  {
   "cell_type": "markdown",
   "metadata": {},
   "source": [
    "On the y axis we see the frequency of ```alcohol``` levels specified on the x axis. \n",
    "\n",
    "Now let's plot them on top of each other like before. "
   ]
  },
  {
   "cell_type": "code",
   "execution_count": null,
   "metadata": {
    "ExecuteTime": {
     "end_time": "2018-03-12T16:27:25.828590Z",
     "start_time": "2018-03-12T16:27:25.492149Z"
    }
   },
   "outputs": [],
   "source": [
    "the_figure = redwine['alcohol'].plot.hist(figsize=(10, 8))\n",
    "badwine['alcohol'].plot.hist(figsize=(10, 8), color='red', ax = the_figure)"
   ]
  },
  {
   "cell_type": "markdown",
   "metadata": {},
   "source": [
    "This is not very informative. We want to compare ```alcohol``` levels _per-capita_. \n",
    "\n",
    "In other words, we want to normalise the frequency counts so that they represent **density** rather than frequency. \n",
    "\n",
    "The pandas ```.hist()``` method has an option ```density``` which we can set to true."
   ]
  },
  {
   "cell_type": "code",
   "execution_count": null,
   "metadata": {
    "ExecuteTime": {
     "end_time": "2018-03-12T16:27:26.163526Z",
     "start_time": "2018-03-12T16:27:25.830883Z"
    }
   },
   "outputs": [],
   "source": [
    "the_figure = redwine['alcohol'].plot.hist(figsize=(10, 8), density=True)\n",
    "badwine['alcohol'].plot.hist(figsize=(10, 8), color='red', density=True)"
   ]
  },
  {
   "cell_type": "markdown",
   "metadata": {},
   "source": [
    "We can now see very clearly that the _bad wine_ clearly has a lower ```alcohol``` content as the red histogram (corresponding to bad wines) is tighter around lower ```alcohol``` values. \n",
    "\n",
    "Finally, we can make plots more transparent so that the underlying plots can be seen more easily by tuning the ```alpha``` parameter in most plotting functions in python. "
   ]
  },
  {
   "cell_type": "code",
   "execution_count": null,
   "metadata": {
    "ExecuteTime": {
     "end_time": "2018-03-12T16:27:26.545375Z",
     "start_time": "2018-03-12T16:27:26.167370Z"
    }
   },
   "outputs": [],
   "source": [
    "the_figure = redwine['alcohol'].plot.hist(figsize=(10, 8), density=True)\n",
    "badwine['alcohol'].plot.hist(figsize=(10, 8), color='red', density=True, alpha=0.5)"
   ]
  },
  {
   "cell_type": "code",
   "execution_count": null,
   "metadata": {},
   "outputs": [],
   "source": []
  }
 ],
 "metadata": {
  "kernelspec": {
   "display_name": "Python 3",
   "language": "python",
   "name": "python3"
  },
  "language_info": {
   "codemirror_mode": {
    "name": "ipython",
    "version": 3
   },
   "file_extension": ".py",
   "mimetype": "text/x-python",
   "name": "python",
   "nbconvert_exporter": "python",
   "pygments_lexer": "ipython3",
   "version": "3.6.8"
  },
  "toc": {
   "nav_menu": {},
   "number_sections": true,
   "sideBar": true,
   "skip_h1_title": false,
   "title_cell": "Table of Contents",
   "title_sidebar": "Contents",
   "toc_cell": false,
   "toc_position": {},
   "toc_section_display": true,
   "toc_window_display": false
  }
 },
 "nbformat": 4,
 "nbformat_minor": 2
}
