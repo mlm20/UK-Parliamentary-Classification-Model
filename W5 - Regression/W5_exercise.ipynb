{
 "cells": [
  {
   "cell_type": "markdown",
   "metadata": {},
   "source": [
    "# Week 5 exercise session\n",
    "\n",
    "You should have either Anaconda for python 3 installed, or be using the google colaboratory notebooks before beginning this exercises. Instructions on how to install this were sent to you at the beginning of the module and can be found on BlackBoard. \n",
    "\n",
    "**Under _Course Content_ on blackboard you can download `W5_exercise.ipynb` and the `W5_crime.csv` file**\n",
    "\n",
    "Make sure to save both in the same exact folder. "
   ]
  },
  {
   "cell_type": "markdown",
   "metadata": {},
   "source": [
    "# Exercise 1: Getting started"
   ]
  },
  {
   "cell_type": "markdown",
   "metadata": {},
   "source": [
    "## 1.1 Learning how to plot data"
   ]
  },
  {
   "cell_type": "markdown",
   "metadata": {},
   "source": [
    "Given some data in an agreeable format, we will use the ```matplotlib``` library to plot the data. \n",
    "\n",
    "First we load the relevant plotting library."
   ]
  },
  {
   "cell_type": "code",
   "execution_count": 1,
   "metadata": {
    "ExecuteTime": {
     "end_time": "2018-05-23T18:10:26.783819Z",
     "start_time": "2018-05-23T18:10:26.415462Z"
    }
   },
   "outputs": [],
   "source": [
    "import matplotlib.pyplot as plt  # Loading the plotting library"
   ]
  },
  {
   "cell_type": "markdown",
   "metadata": {},
   "source": [
    "For this exercise you should visit the <a href=\"https://matplotlib.org/users/pyplot_tutorial.html\">documentation </a> for `matplotlib` and figure out how to plot the x and y data against each other. "
   ]
  },
  {
   "cell_type": "markdown",
   "metadata": {},
   "source": [
    "First we will take the same data from the previous exercise and put it in a `Pandas` dataframe. For more information on the `Pandas` package please see the tutorial available on Blackboard under Week 3 -> Tutorials - Python Installation"
   ]
  },
  {
   "cell_type": "code",
   "execution_count": 2,
   "metadata": {
    "ExecuteTime": {
     "end_time": "2018-05-17T14:39:13.060649Z",
     "start_time": "2018-05-17T14:39:12.801453Z"
    }
   },
   "outputs": [],
   "source": [
    "import pandas as pd  # loading the pandas module\n",
    "\n",
    "x_data = [1, 3, 5, 6, 7, 8, 10, 11, 14, 18]  # data from before\n",
    "y_data = [14, 15, 22, 25, 22, 26, 33, 34, 35, 40]  # data from before\n",
    "\n",
    "df = pd.DataFrame()  # creating an empty dataframe\n",
    "df['x'] = x_data  # creating a column named 'x'\n",
    "df['y'] = y_data  # creating a column named 'y'"
   ]
  },
  {
   "cell_type": "code",
   "execution_count": 6,
   "metadata": {
    "ExecuteTime": {
     "end_time": "2018-05-23T18:10:30.990739Z",
     "start_time": "2018-05-23T18:10:27.584055Z"
    },
    "scrolled": true
   },
   "outputs": [
    {
     "data": {
      "text/plain": [
       "<AxesSubplot:xlabel='x'>"
      ]
     },
     "execution_count": 6,
     "metadata": {},
     "output_type": "execute_result"
    },
    {
     "data": {
      "image/png": "[encoded data removed]",
      "text/plain": [
       "<Figure size 432x288 with 1 Axes>"
      ]
     },
     "metadata": {
      "needs_background": "light"
     },
     "output_type": "display_data"
    }
   ],
   "source": [
    "# your code here\n",
    "df.plot(x = \"x\", y = \"y\")"
   ]
  },
  {
   "cell_type": "markdown",
   "metadata": {},
   "source": [
    "## 1.2 Plotting a line"
   ]
  },
  {
   "cell_type": "markdown",
   "metadata": {},
   "source": [
    "Given a line equation:\n",
    "\\begin{equation}\n",
    "y = 2x + 1\n",
    "\\end{equation}\n",
    "\n",
    " \n",
    "Plot a line with x values ranging from $0$ to $20$.\n",
    "\n",
    "_Hint: you can first define a function with the line equation and then apply the line equation to a list of x values to get the y values. To do this you might need some help from the `NumPy` package (<a href=\"http://www.scipy-lectures.org/intro/numpy/operations.html\">some help</a>). Below you can see that using the `NumPy` package you can add entire arrays together, element-wise._ "
   ]
  },
  {
   "cell_type": "code",
   "execution_count": null,
   "metadata": {},
   "outputs": [],
   "source": []
  },
  {
   "cell_type": "code",
   "execution_count": 7,
   "metadata": {
    "ExecuteTime": {
     "end_time": "2018-05-23T18:10:31.958224Z",
     "start_time": "2018-05-23T18:10:31.946828Z"
    }
   },
   "outputs": [
    {
     "name": "stdout",
     "output_type": "stream",
     "text": [
      "[0 1 2 3 4 5 6 7 8 9]\n",
      "[15 16 17 18 19 20 21 22 23 24]\n",
      "[15 17 19 21 23 25 27 29 31 33]\n"
     ]
    }
   ],
   "source": [
    "import numpy as np  # loading the numpy module\n",
    "\n",
    "list1 = list(range(10))  # a list from 0 to 9\n",
    "list2 = list(range(15, 25))  # a list from 15 to 24\n",
    "\n",
    "\n",
    "array1 = np.array(list1)  # casting the list to an array\n",
    "array2 = np.array(list2)\n",
    "\n",
    "print(array1)  # printing the first array\n",
    "print(array2)  # printing the second array\n",
    "print(array1 + array2)  # printing the sum of the two arrays"
   ]
  },
  {
   "cell_type": "code",
   "execution_count": 10,
   "metadata": {
    "ExecuteTime": {
     "end_time": "2018-05-23T18:10:33.483292Z",
     "start_time": "2018-05-23T18:10:33.289515Z"
    }
   },
   "outputs": [
    {
     "data": {
      "text/plain": [
       "<AxesSubplot:xlabel='x_values'>"
      ]
     },
     "execution_count": 10,
     "metadata": {},
     "output_type": "execute_result"
    },
    {
     "data": {
      "image/png": "[encoded data removed]",
      "text/plain": [
       "<Figure size 432x288 with 1 Axes>"
      ]
     },
     "metadata": {
      "needs_background": "light"
     },
     "output_type": "display_data"
    }
   ],
   "source": [
    "x_values = list(range(21))\n",
    "x_array = np.array(x_values)\n",
    "y_array = 2 * x_array + 1\n",
    "\n",
    "frame = pd.DataFrame()\n",
    "frame[\"x_values\"] = x_array\n",
    "frame[\"y_values\"] = y_array\n",
    "frame.plot(\"x_values\", \"y_values\")\n"
   ]
  },
  {
   "cell_type": "markdown",
   "metadata": {},
   "source": [
    "## 1.3 Minimising the RSS"
   ]
  },
  {
   "cell_type": "markdown",
   "metadata": {},
   "source": [
    "In the lecture you learned that the best linear fit to a set of points minimises the RSS values. \n",
    "\n",
    "Using the data given below, try and find reasonable guesses for the line parameters (a, b) which minimise the RSS. \n",
    "\n",
    "Below there is a function that computes the RSS for you given an the data (x, y) and the line parameters (a, b). \n",
    "\n",
    "1. Try 5 different combinations for a and b.\n",
    "2. Try plotting each one to see how the different a and b values fit\n",
    "2. What is the minimum RSS you can compute?\n",
    "3. What combination of a and b gives you this minimum RSS?"
   ]
  },
  {
   "cell_type": "code",
   "execution_count": null,
   "metadata": {},
   "outputs": [],
   "source": []
  },
  {
   "cell_type": "code",
   "execution_count": 11,
   "metadata": {
    "ExecuteTime": {
     "end_time": "2018-05-23T18:10:34.996423Z",
     "start_time": "2018-05-23T18:10:34.991883Z"
    }
   },
   "outputs": [],
   "source": [
    "import numpy as np\n",
    "\n",
    "def rss(x, y, a, b):\n",
    "    '''\n",
    "    This function calculates the RSS for the model y = a*x + b value given:\n",
    "    - x: a list\n",
    "    - y: a list\n",
    "    - a: a float\n",
    "    - b: a float\n",
    "    '''\n",
    "    x = np.asarray(x) #Cast to numpy array so that we can do arithmatic with arrays\n",
    "    y = np.asarray(y)\n",
    "    \n",
    "    y_predicted = a*x+b # This is an array. Uncomment next line to see\n",
    "    # print y_predicted \n",
    "    residuals = y - y_predicted\n",
    "    \n",
    "    return sum(pow(residuals, 2))\n"
   ]
  },
  {
   "cell_type": "code",
   "execution_count": null,
   "metadata": {
    "ExecuteTime": {
     "end_time": "2018-05-23T18:10:36.435911Z",
     "start_time": "2018-05-23T18:10:36.225156Z"
    }
   },
   "outputs": [],
   "source": [
    "# your code for attempt 1\n"
   ]
  },
  {
   "cell_type": "code",
   "execution_count": null,
   "metadata": {
    "ExecuteTime": {
     "end_time": "2018-05-23T18:10:36.798542Z",
     "start_time": "2018-05-23T18:10:36.616930Z"
    }
   },
   "outputs": [],
   "source": [
    "# your code for attempt 2\n"
   ]
  },
  {
   "cell_type": "code",
   "execution_count": null,
   "metadata": {
    "ExecuteTime": {
     "end_time": "2018-05-23T18:10:37.311752Z",
     "start_time": "2018-05-23T18:10:37.096583Z"
    }
   },
   "outputs": [],
   "source": [
    "# your code for attempt 3\n"
   ]
  },
  {
   "cell_type": "code",
   "execution_count": null,
   "metadata": {
    "ExecuteTime": {
     "end_time": "2018-05-23T18:10:37.874003Z",
     "start_time": "2018-05-23T18:10:37.679000Z"
    }
   },
   "outputs": [],
   "source": [
    "# your code for attempt 4\n"
   ]
  },
  {
   "cell_type": "code",
   "execution_count": null,
   "metadata": {
    "ExecuteTime": {
     "end_time": "2018-05-23T18:10:38.872586Z",
     "start_time": "2018-05-23T18:10:38.692853Z"
    },
    "scrolled": true
   },
   "outputs": [],
   "source": [
    "# your code for attempt 5\n"
   ]
  },
  {
   "cell_type": "code",
   "execution_count": null,
   "metadata": {
    "ExecuteTime": {
     "end_time": "2018-05-17T14:39:12.799320Z",
     "start_time": "2018-05-17T14:39:12.794338Z"
    }
   },
   "outputs": [],
   "source": [
    "# Write down the minimum RSS and the corresponding a and b values here\n",
    "\n",
    "# Min RSS:\n",
    "# a:\n",
    "# b: "
   ]
  },
  {
   "cell_type": "markdown",
   "metadata": {},
   "source": [
    "## 1.4 Using `sklearn` to find the true value for the line parameters a and b\n"
   ]
  },
  {
   "cell_type": "markdown",
   "metadata": {},
   "source": [
    "In lectures you were introduced to the ```sklearn``` library which you can use to compute the parameters for the best fitting line. Below this is done for you. \n",
    "\n",
    "The line fitting procedure that we will use is called **ordinary least squares** fitting. In the slides for lecture one there is an example of doing this. Find it and copy it below to reproduce the OLS regression results. "
   ]
  },
  {
   "cell_type": "code",
   "execution_count": null,
   "metadata": {
    "ExecuteTime": {
     "end_time": "2018-05-17T14:39:13.363412Z",
     "start_time": "2018-05-17T14:39:13.062344Z"
    }
   },
   "outputs": [],
   "source": [
    "# your code here\n"
   ]
  },
  {
   "cell_type": "markdown",
   "metadata": {},
   "source": [
    "What are the a and b values?"
   ]
  },
  {
   "cell_type": "code",
   "execution_count": null,
   "metadata": {
    "ExecuteTime": {
     "end_time": "2018-05-17T14:39:13.373015Z",
     "start_time": "2018-05-17T14:39:13.366353Z"
    }
   },
   "outputs": [],
   "source": [
    "# Write the parameter values here:\n"
   ]
  },
  {
   "cell_type": "markdown",
   "metadata": {},
   "source": [
    "Using the a and b value from `sklearn`:\n",
    "1. Compute the RSS. Is it lower than the lowest one you computed previously?\n",
    "2. Plot the line of best fit"
   ]
  },
  {
   "cell_type": "code",
   "execution_count": null,
   "metadata": {
    "ExecuteTime": {
     "end_time": "2018-05-17T14:39:13.539857Z",
     "start_time": "2018-05-17T14:39:13.384747Z"
    }
   },
   "outputs": [],
   "source": [
    "# Your code here\n"
   ]
  },
  {
   "cell_type": "markdown",
   "metadata": {},
   "source": [
    "Finally, below is a function that computes TSS for you. Using this, and the function for RSS, can you compute the $R^2$ of this correlation?\n",
    "\n",
    "The value you find should be: 0.92782209"
   ]
  },
  {
   "cell_type": "code",
   "execution_count": null,
   "metadata": {},
   "outputs": [],
   "source": [
    "# a function to compute tss\n",
    "\n",
    "def tss(y):\n",
    "    ymean = np.mean(y)\n",
    "    return sum(pow((y - ymean), 2))"
   ]
  },
  {
   "cell_type": "code",
   "execution_count": null,
   "metadata": {},
   "outputs": [],
   "source": [
    "# your code here\n"
   ]
  },
  {
   "cell_type": "markdown",
   "metadata": {},
   "source": [
    "# Exercise 2: Crime and Communities Dataset\n",
    "\n",
    "This dataset combines socio-economic data with various crime statistics with the goal to predict prevelance of crime. More information available <a href = \"http://archive.ics.uci.edu/ml/datasets/communities+and+crime+unnormalized\"> here. </a>\n",
    "\n",
    "It is a table of 100 rows and 143 columns. You can find information on what each of the columns are in the link above.\n",
    "\n",
    "Let's load it up."
   ]
  },
  {
   "cell_type": "code",
   "execution_count": null,
   "metadata": {
    "ExecuteTime": {
     "end_time": "2018-05-17T14:39:13.608068Z",
     "start_time": "2018-05-17T14:39:13.548235Z"
    }
   },
   "outputs": [],
   "source": [
    "# pd.read_csv reads a csv file as a pandas dataframe.\n",
    "crime_data = pd.read_csv('W5_crime.csv')"
   ]
  },
  {
   "cell_type": "code",
   "execution_count": null,
   "metadata": {
    "ExecuteTime": {
     "end_time": "2018-05-17T14:39:13.624536Z",
     "start_time": "2018-05-17T14:39:13.609811Z"
    },
    "scrolled": true
   },
   "outputs": [],
   "source": [
    "crime_data.info(verbose = True)  # This gives you a list of all columns and their types"
   ]
  },
  {
   "cell_type": "code",
   "execution_count": null,
   "metadata": {
    "ExecuteTime": {
     "end_time": "2018-05-17T14:39:13.661656Z",
     "start_time": "2018-05-17T14:39:13.626974Z"
    }
   },
   "outputs": [],
   "source": [
    "crime_data.head()  # printing the first 5 rows"
   ]
  },
  {
   "cell_type": "markdown",
   "metadata": {},
   "source": [
    "## 2.1 Exploring the dataset"
   ]
  },
  {
   "cell_type": "markdown",
   "metadata": {},
   "source": [
    "The first thing we will do is to look at some distributions in the data and see if that tells us anything. \n",
    "\n",
    "Let's first plot the distribution of per capita income using the column `perCapInc`.\n",
    "\n",
    "Each value in this column represents the per capita income in a particular community."
   ]
  },
  {
   "cell_type": "code",
   "execution_count": null,
   "metadata": {
    "ExecuteTime": {
     "end_time": "2018-05-17T14:39:13.885102Z",
     "start_time": "2018-05-17T14:39:13.664780Z"
    },
    "scrolled": true
   },
   "outputs": [],
   "source": [
    "plt.hist(crime_data['perCapInc'], bins=20)  # plotting the historgam with 50 bins\n",
    "plt.xlabel('per capita income')  # setting the label for the x axis\n",
    "plt.show()"
   ]
  },
  {
   "cell_type": "markdown",
   "metadata": {},
   "source": [
    "We can also get the mean and standard deviation and some other statistics from the `Pandas` column. Here we use the <a href=\"https://pandas.pydata.org/pandas-docs/stable/generated/pandas.DataFrame.describe.html\">`.describe()` method</a> of a `Pandas` column."
   ]
  },
  {
   "cell_type": "code",
   "execution_count": null,
   "metadata": {
    "ExecuteTime": {
     "end_time": "2018-05-17T14:39:13.896760Z",
     "start_time": "2018-05-17T14:39:13.887336Z"
    }
   },
   "outputs": [],
   "source": [
    "crime_data['perCapInc'].describe()"
   ]
  },
  {
   "cell_type": "markdown",
   "metadata": {},
   "source": [
    "Now, try and do the same with both:\n",
    "1. The percentage of people with a Bachelors degree or more `PctBSorMore`\n",
    "2. The median rent `MedRent`\n",
    "3. Describe your findings in one short paragraph\n"
   ]
  },
  {
   "cell_type": "code",
   "execution_count": null,
   "metadata": {
    "ExecuteTime": {
     "end_time": "2018-05-17T14:39:14.111045Z",
     "start_time": "2018-05-17T14:39:13.898811Z"
    }
   },
   "outputs": [],
   "source": [
    "# your code here \n"
   ]
  },
  {
   "cell_type": "code",
   "execution_count": null,
   "metadata": {
    "ExecuteTime": {
     "end_time": "2018-05-17T14:39:14.337479Z",
     "start_time": "2018-05-17T14:39:14.118473Z"
    }
   },
   "outputs": [],
   "source": [
    "# your code here \n"
   ]
  },
  {
   "cell_type": "code",
   "execution_count": null,
   "metadata": {
    "ExecuteTime": {
     "end_time": "2018-05-17T14:39:14.342322Z",
     "start_time": "2018-05-17T14:39:14.339577Z"
    }
   },
   "outputs": [],
   "source": [
    "# Write your paragraph as a comment here"
   ]
  },
  {
   "cell_type": "markdown",
   "metadata": {},
   "source": [
    "## 2.2 Fitting linear models to the crime dataset"
   ]
  },
  {
   "cell_type": "markdown",
   "metadata": {},
   "source": [
    "In exercise 1, you learned how to use `sklearn` to fit a line to data in a `Pandas` dataframe. \n",
    "\n",
    "For the following pairs of variables you should:\n",
    "1. Plot one against the other\n",
    "2. Fit a linear model to it finding the linear model parameter values and the $R^2$\n",
    "3. Plot the line of best fit on the data\n",
    "4. Explain in one or two sentences and observations of significance that you notice\n",
    "\n",
    "Pairs of variables:\n",
    "1. Per capita income (`PerCapInc`) and percentage who hold a Bachelors degree or higher (`PctBSorMore`)\n",
    "2. Violent crimes per capita (`ViolentCrimesPerPop`) and non-violent crimes per capita (`nonViolPerPop`)\n",
    "3. Population density (`PopDens`) and median rent (`MedRent`)\n",
    "4. Employment rate (`PctEmploy`) and established immigrant rate (`PctImmigRec10`)"
   ]
  },
  {
   "cell_type": "code",
   "execution_count": null,
   "metadata": {
    "ExecuteTime": {
     "end_time": "2018-05-17T14:39:14.583990Z",
     "start_time": "2018-05-17T14:39:14.344749Z"
    }
   },
   "outputs": [],
   "source": [
    "# your code here\n"
   ]
  },
  {
   "cell_type": "code",
   "execution_count": null,
   "metadata": {
    "ExecuteTime": {
     "end_time": "2018-05-17T14:39:14.589045Z",
     "start_time": "2018-05-17T14:39:14.586145Z"
    }
   },
   "outputs": [],
   "source": [
    "# describe your findings"
   ]
  },
  {
   "cell_type": "code",
   "execution_count": null,
   "metadata": {
    "ExecuteTime": {
     "end_time": "2018-05-17T14:39:14.795205Z",
     "start_time": "2018-05-17T14:39:14.591843Z"
    }
   },
   "outputs": [],
   "source": [
    "# your code here\n",
    "\n"
   ]
  },
  {
   "cell_type": "code",
   "execution_count": null,
   "metadata": {
    "ExecuteTime": {
     "end_time": "2018-05-17T14:39:14.801249Z",
     "start_time": "2018-05-17T14:39:14.798309Z"
    }
   },
   "outputs": [],
   "source": [
    "# describe your findings"
   ]
  },
  {
   "cell_type": "code",
   "execution_count": null,
   "metadata": {
    "ExecuteTime": {
     "end_time": "2018-05-17T14:39:15.005409Z",
     "start_time": "2018-05-17T14:39:14.803613Z"
    }
   },
   "outputs": [],
   "source": [
    "# your code here\n",
    "\n"
   ]
  },
  {
   "cell_type": "code",
   "execution_count": null,
   "metadata": {
    "ExecuteTime": {
     "end_time": "2018-05-17T14:39:15.011502Z",
     "start_time": "2018-05-17T14:39:15.007429Z"
    }
   },
   "outputs": [],
   "source": [
    "# describe your findings"
   ]
  },
  {
   "cell_type": "code",
   "execution_count": null,
   "metadata": {
    "ExecuteTime": {
     "end_time": "2018-05-17T14:39:15.198299Z",
     "start_time": "2018-05-17T14:39:15.019439Z"
    },
    "scrolled": true
   },
   "outputs": [],
   "source": [
    "# your code here\n",
    "\n"
   ]
  },
  {
   "cell_type": "code",
   "execution_count": null,
   "metadata": {
    "ExecuteTime": {
     "end_time": "2018-05-17T14:39:15.203267Z",
     "start_time": "2018-05-17T14:39:15.200413Z"
    }
   },
   "outputs": [],
   "source": [
    "# describe your findings"
   ]
  }
 ],
 "metadata": {
  "interpreter": {
   "hash": "658304fd40547ad30e221f1f6824feb4536224b38ad65e65a807dc0873c2e463"
  },
  "kernelspec": {
   "display_name": "Python 3.10.4 ('python-data-science')",
   "language": "python",
   "name": "python3"
  },
  "language_info": {
   "codemirror_mode": {
    "name": "ipython",
    "version": 3
   },
   "file_extension": ".py",
   "mimetype": "text/x-python",
   "name": "python",
   "nbconvert_exporter": "python",
   "pygments_lexer": "ipython3",
   "version": "3.10.4"
  },
  "toc": {
   "nav_menu": {},
   "number_sections": true,
   "sideBar": true,
   "skip_h1_title": false,
   "title_cell": "Table of Contents",
   "title_sidebar": "Contents",
   "toc_cell": false,
   "toc_position": {},
   "toc_section_display": true,
   "toc_window_display": false
  }
 },
 "nbformat": 4,
 "nbformat_minor": 4
}
